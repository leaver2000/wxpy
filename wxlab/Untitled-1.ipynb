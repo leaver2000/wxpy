{
 "cells": [
  {
   "cell_type": "code",
   "execution_count": 24,
   "metadata": {},
   "outputs": [],
   "source": [
    "\n"
   ]
  },
  {
   "cell_type": "code",
   "execution_count": 236,
   "metadata": {},
   "outputs": [
    {
     "name": "stdout",
     "output_type": "stream",
     "text": [
      "https://example.com/path/to/my?smelly=balls\n",
      "https://api.dev.com/stcat/to/my?smelly=balls\n"
     ]
    },
    {
     "data": {
      "text/plain": [
       "<__main__.Env at 0x7fe2d31d9960>"
      ]
     },
     "execution_count": 236,
     "metadata": {},
     "output_type": "execute_result"
    }
   ],
   "source": [
    "import os\n",
    "import re\n",
    "from typing import get_type_hints,NewType,Type, Dict, Mapping, Set\n",
    "from urllib.parse import urljoin, urlencode\n",
    "import collections\n",
    "os.environ[\"TARP_URL\"] = \"https://example.com/path/\"\n",
    "os.environ[\"STCAT_URL\"] = \"https://api.dev.com/stcat/\"\n",
    "\n",
    "class Env(collections.abc.MutableMapping):\n",
    "\n",
    "    def __getitem__(self, __k: str) -> str:\n",
    "        return self.__getattribute__(__k)\n",
    "\n",
    "    def __setitem__(self, __k: str, __v: str) -> None: \n",
    "        self.__setattr__( __k, __v)\n",
    "\n",
    "    def __delitem__(self, _: str) -> None: ...\n",
    "    \n",
    "    def __iter__(self) -> str: ...\n",
    "    \n",
    "    def __len__(self):...\n",
    "    \n",
    "    def query(self, *args,**kwargs):\n",
    "        return urljoin(self[\"_hint\"]  ,\"/\".join(args))+\"?\"+urlencode(kwargs)\n",
    "\n",
    "class Endpoints:\n",
    "        def __init__(self):\n",
    "            for attr,hint in get_type_hints(self.__class__).items():\n",
    "                match re.search(r\"^(?:.*\\.)(.+)\\['(.+)'\\]\",str(hint)).groups():\n",
    "                    case [\"Env\",KEY]:\n",
    "                        env = hint()\n",
    "                        env[\"_hint\"] = os.environ[KEY]\n",
    "\n",
    "                self.__setattr__(attr,env)\n",
    "\n",
    "\n",
    "class Points(Endpoints):\n",
    "    tarp:Env[\"TARP_URL\"]\n",
    "    stcat:Env[\"STCAT_URL\"]\n",
    "    \n",
    "    \n",
    "    \n",
    "env  = Points()\n",
    "\n",
    "\n",
    "\n",
    "print(env.tarp.query(\"to\",\"my\",smelly=\"balls\"))\n",
    "\n",
    "print(env.stcat.query(\"to\",\"my\",smelly=\"balls\"))\n",
    "env.stcat"
   ]
  }
 ],
 "metadata": {
  "interpreter": {
   "hash": "ee8bdae2639ac3626157e8ee290642a9bef975c9dba8b8afc6858052d7b5d627"
  },
  "kernelspec": {
   "display_name": "Python 3.10.4 ('wxlab')",
   "language": "python",
   "name": "python3"
  },
  "language_info": {
   "codemirror_mode": {
    "name": "ipython",
    "version": 3
   },
   "file_extension": ".py",
   "mimetype": "text/x-python",
   "name": "python",
   "nbconvert_exporter": "python",
   "pygments_lexer": "ipython3",
   "version": "3.10.4"
  },
  "orig_nbformat": 4
 },
 "nbformat": 4,
 "nbformat_minor": 2
}
