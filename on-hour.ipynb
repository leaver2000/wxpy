{
 "cells": [
  {
   "cell_type": "code",
   "execution_count": 33,
   "metadata": {},
   "outputs": [
    {
     "name": "stdout",
     "output_type": "stream",
     "text": [
      "The jupyter_black extension is already loaded. To reload it, use:\n",
      "  %reload_ext jupyter_black\n"
     ]
    }
   ],
   "source": [
    "%load_ext jupyter_black\n",
    "\n",
    "from datetime import datetime\n",
    "\n",
    "import pandas as pd\n",
    "import numpy as np\n",
    "import requests\n",
    "\n",
    "\n",
    "from apscheduler.schedulers.blocking import BlockingScheduler\n",
    "from apscheduler.triggers.interval import IntervalTrigger\n",
    "# scheduler = BlockingScheduler()\n",
    "\n",
    "NCEP_DATA = \"https://mrms.ncep.noaa.gov/data\"\n",
    "\n",
    "\n",
    "def name_to_datetime(names: pd.Series) -> pd.DatetimeIndex:\n",
    "    return pd.DatetimeIndex(names.str.replace(\"_\", \"T\").str.extract(r\"(\\d*T\\d*).json\")[0]).rename(\"validTime\")\n",
    "    \n",
    "def read_mrms(*args: str) -> pd.DataFrame:\n",
    "    url = \"/\".join([NCEP_DATA, *args]) + \"/?C=M;O=D\"\n",
    "    return pd.read_html(url)[0].dropna()\n",
    "\n",
    "def read_probsevere() -> pd.DataFrame:\n",
    "    df = read_mrms(\"ProbSevere\", \"PROBSEVERE\")\n",
    "    df.index = name_to_datetime(df.Name)\n",
    "    return (NCEP_DATA + \"/ProbSevere/PROBSEVERE/\" + df[\"Name\"]).rename(\"url\")\n",
    "\n",
    "def get_last_hours_data():\n",
    "    s = read_probsevere()\n",
    "    last_hour =datetime.utcnow() - pd.to_timedelta(1, unit=\"h\")\n",
    "    is_last_hour = (s.index.day == last_hour.day ) & (s.index.hour == last_hour.hour) \n",
    "    is_10_min_interval = (s.index.minute % 10 )== 0\n",
    "    return s[is_last_hour & is_10_min_interval]\n",
    "\n",
    "\n"
   ]
  },
  {
   "cell_type": "code",
   "execution_count": 47,
   "metadata": {},
   "outputs": [
    {
     "name": "stdout",
     "output_type": "stream",
     "text": [
      "downloading[....] "
     ]
    }
   ],
   "source": [
    "from sys import stdout\n",
    "import os, platform\n",
    "from time import sleep\n",
    "try:\n",
    "    import IPython\n",
    "    from IPython.display import clear_output\n",
    "except ImportError:\n",
    "    clear_output = lambda wait:None\n",
    "\n",
    "def isnotebook():\n",
    "    try:\n",
    "        shell = IPython.get_ipython().__class__.__name__\n",
    "        if shell == 'ZMQInteractiveShell':\n",
    "            return True   # Jupyter notebook or qtconsole\n",
    "        elif shell == 'TerminalInteractiveShell':\n",
    "            return False  # Terminal running IPython\n",
    "        else:\n",
    "            return False  # Other type (?)\n",
    "    except NameError:\n",
    "        return False\n",
    "\n",
    "for i in range(1,20):\n",
    "    x = \".\"*(i%4)\n",
    "    y =\" \" * (3-len(x))\n",
    "    \n",
    "    if isnotebook():\n",
    "        clear_output()\n",
    "    elif platform.system() == 'Windows':\n",
    "        os.system('cls')\n",
    "    else:\n",
    "        os.system('clear')\n",
    "\n",
    "    print(f\"downloading[.{x+y}]\", end =' ', flush = True)\n",
    "    sleep(.5)\n",
    "\n",
    "# 0%4"
   ]
  },
  {
   "cell_type": "code",
   "execution_count": 34,
   "metadata": {},
   "outputs": [],
   "source": [
    "from typing import Mapping\n",
    "\n",
    "\n",
    "def to_dataframe(mrms_files: Mapping[pd.Timestamp, str]) -> pd.DataFrame:\n",
    "    def generate():\n",
    "        for vt, url in mrms_files.items():\n",
    "            features = requests.get(url).json()[\"features\"]\n",
    "            print(f\"data collected for {vt}\")\n",
    "            for feat in features:\n",
    "                props = feat[\"properties\"]\n",
    "                props[\"validTime\"] = vt\n",
    "                props[\"geometry\"] = feat[\"geometry\"]\n",
    "                yield props\n",
    "\n",
    "    ps = pd.DataFrame(generate()).set_index([\"validTime\", \"ID\"])\n",
    "\n",
    "    ps[\"AVG_BEAM_HGT\"] = ps[\"AVG_BEAM_HGT\"].str.replace(r\"[A-Za-z]\", \"\", regex=True).apply(pd.eval)\n",
    "\n",
    "    ps[[\"MAXRC_EMISS\", \"MAXRC_ICECF\"]] = (\n",
    "        ps[[\"MAXRC_EMISS\", \"MAXRC_ICECF\"]]\n",
    "        .stack()\n",
    "        .str.extract(r\"(?:\\()([a-z]*)(?:\\))\")\n",
    "        .replace({\"weak\": 1, \"moderate\": 2, \"strong\": 3})\n",
    "        .fillna(0)\n",
    "        .unstack(-1)\n",
    "        .droplevel(0, axis=1)\n",
    "    )\n",
    "    # ps[[ps.columns != \"geometry\"]] = ps[ps.columns != \"geometry\"].astype(np.float32)\n",
    "    ps.loc[:, ps.columns != \"geometry\"] = ps.loc[:, ps.columns != \"geometry\"].astype(np.float32)\n",
    "    return ps"
   ]
  },
  {
   "cell_type": "code",
   "execution_count": 35,
   "metadata": {},
   "outputs": [
    {
     "name": "stdout",
     "output_type": "stream",
     "text": [
      "data collected for 2022-05-30 11:50:40\n",
      "data collected for 2022-05-30 11:40:41\n",
      "data collected for 2022-05-30 11:30:40\n",
      "data collected for 2022-05-30 11:20:41\n",
      "data collected for 2022-05-30 11:10:40\n",
      "data collected for 2022-05-30 11:00:43\n",
      "file saved as data/data/2022-05-30HR07.parquet.parquet\n"
     ]
    },
    {
     "ename": "KeyboardInterrupt",
     "evalue": "",
     "output_type": "error",
     "traceback": [
      "\u001b[0;31m---------------------------------------------------------------------------\u001b[0m",
      "\u001b[0;31mKeyboardInterrupt\u001b[0m                         Traceback (most recent call last)",
      "\u001b[0;32m/tmp/ipykernel_1249/3251651843.py\u001b[0m in \u001b[0;36m<cell line: 24>\u001b[0;34m()\u001b[0m\n\u001b[1;32m     24\u001b[0m \u001b[0;32mif\u001b[0m \u001b[0m__name__\u001b[0m \u001b[0;34m==\u001b[0m \u001b[0;34m\"__main__\"\u001b[0m\u001b[0;34m:\u001b[0m\u001b[0;34m\u001b[0m\u001b[0;34m\u001b[0m\u001b[0m\n\u001b[1;32m     25\u001b[0m     \u001b[0mon_hour\u001b[0m\u001b[0;34m(\u001b[0m\u001b[0;34m)\u001b[0m\u001b[0;34m\u001b[0m\u001b[0;34m\u001b[0m\u001b[0m\n\u001b[0;32m---> 26\u001b[0;31m     \u001b[0mscheduler\u001b[0m\u001b[0;34m.\u001b[0m\u001b[0mstart\u001b[0m\u001b[0;34m(\u001b[0m\u001b[0;34m)\u001b[0m\u001b[0;34m\u001b[0m\u001b[0;34m\u001b[0m\u001b[0m\n\u001b[0m",
      "\u001b[0;32m~/anaconda3/envs/wxlab/lib/python3.10/site-packages/apscheduler/schedulers/blocking.py\u001b[0m in \u001b[0;36mstart\u001b[0;34m(self, *args, **kwargs)\u001b[0m\n\u001b[1;32m     19\u001b[0m \u001b[0;34m\u001b[0m\u001b[0m\n\u001b[1;32m     20\u001b[0m         \u001b[0msuper\u001b[0m\u001b[0;34m(\u001b[0m\u001b[0mBlockingScheduler\u001b[0m\u001b[0;34m,\u001b[0m \u001b[0mself\u001b[0m\u001b[0;34m)\u001b[0m\u001b[0;34m.\u001b[0m\u001b[0mstart\u001b[0m\u001b[0;34m(\u001b[0m\u001b[0;34m*\u001b[0m\u001b[0margs\u001b[0m\u001b[0;34m,\u001b[0m \u001b[0;34m**\u001b[0m\u001b[0mkwargs\u001b[0m\u001b[0;34m)\u001b[0m\u001b[0;34m\u001b[0m\u001b[0;34m\u001b[0m\u001b[0m\n\u001b[0;32m---> 21\u001b[0;31m         \u001b[0mself\u001b[0m\u001b[0;34m.\u001b[0m\u001b[0m_main_loop\u001b[0m\u001b[0;34m(\u001b[0m\u001b[0;34m)\u001b[0m\u001b[0;34m\u001b[0m\u001b[0;34m\u001b[0m\u001b[0m\n\u001b[0m\u001b[1;32m     22\u001b[0m \u001b[0;34m\u001b[0m\u001b[0m\n\u001b[1;32m     23\u001b[0m     \u001b[0;32mdef\u001b[0m \u001b[0mshutdown\u001b[0m\u001b[0;34m(\u001b[0m\u001b[0mself\u001b[0m\u001b[0;34m,\u001b[0m \u001b[0mwait\u001b[0m\u001b[0;34m=\u001b[0m\u001b[0;32mTrue\u001b[0m\u001b[0;34m)\u001b[0m\u001b[0;34m:\u001b[0m\u001b[0;34m\u001b[0m\u001b[0;34m\u001b[0m\u001b[0m\n",
      "\u001b[0;32m~/anaconda3/envs/wxlab/lib/python3.10/site-packages/apscheduler/schedulers/blocking.py\u001b[0m in \u001b[0;36m_main_loop\u001b[0;34m(self)\u001b[0m\n\u001b[1;32m     28\u001b[0m         \u001b[0mwait_seconds\u001b[0m \u001b[0;34m=\u001b[0m \u001b[0mTIMEOUT_MAX\u001b[0m\u001b[0;34m\u001b[0m\u001b[0;34m\u001b[0m\u001b[0m\n\u001b[1;32m     29\u001b[0m         \u001b[0;32mwhile\u001b[0m \u001b[0mself\u001b[0m\u001b[0;34m.\u001b[0m\u001b[0mstate\u001b[0m \u001b[0;34m!=\u001b[0m \u001b[0mSTATE_STOPPED\u001b[0m\u001b[0;34m:\u001b[0m\u001b[0;34m\u001b[0m\u001b[0;34m\u001b[0m\u001b[0m\n\u001b[0;32m---> 30\u001b[0;31m             \u001b[0mself\u001b[0m\u001b[0;34m.\u001b[0m\u001b[0m_event\u001b[0m\u001b[0;34m.\u001b[0m\u001b[0mwait\u001b[0m\u001b[0;34m(\u001b[0m\u001b[0mwait_seconds\u001b[0m\u001b[0;34m)\u001b[0m\u001b[0;34m\u001b[0m\u001b[0;34m\u001b[0m\u001b[0m\n\u001b[0m\u001b[1;32m     31\u001b[0m             \u001b[0mself\u001b[0m\u001b[0;34m.\u001b[0m\u001b[0m_event\u001b[0m\u001b[0;34m.\u001b[0m\u001b[0mclear\u001b[0m\u001b[0;34m(\u001b[0m\u001b[0;34m)\u001b[0m\u001b[0;34m\u001b[0m\u001b[0;34m\u001b[0m\u001b[0m\n\u001b[1;32m     32\u001b[0m             \u001b[0mwait_seconds\u001b[0m \u001b[0;34m=\u001b[0m \u001b[0mself\u001b[0m\u001b[0;34m.\u001b[0m\u001b[0m_process_jobs\u001b[0m\u001b[0;34m(\u001b[0m\u001b[0;34m)\u001b[0m\u001b[0;34m\u001b[0m\u001b[0;34m\u001b[0m\u001b[0m\n",
      "\u001b[0;32m~/anaconda3/envs/wxlab/lib/python3.10/threading.py\u001b[0m in \u001b[0;36mwait\u001b[0;34m(self, timeout)\u001b[0m\n\u001b[1;32m    598\u001b[0m             \u001b[0msignaled\u001b[0m \u001b[0;34m=\u001b[0m \u001b[0mself\u001b[0m\u001b[0;34m.\u001b[0m\u001b[0m_flag\u001b[0m\u001b[0;34m\u001b[0m\u001b[0;34m\u001b[0m\u001b[0m\n\u001b[1;32m    599\u001b[0m             \u001b[0;32mif\u001b[0m \u001b[0;32mnot\u001b[0m \u001b[0msignaled\u001b[0m\u001b[0;34m:\u001b[0m\u001b[0;34m\u001b[0m\u001b[0;34m\u001b[0m\u001b[0m\n\u001b[0;32m--> 600\u001b[0;31m                 \u001b[0msignaled\u001b[0m \u001b[0;34m=\u001b[0m \u001b[0mself\u001b[0m\u001b[0;34m.\u001b[0m\u001b[0m_cond\u001b[0m\u001b[0;34m.\u001b[0m\u001b[0mwait\u001b[0m\u001b[0;34m(\u001b[0m\u001b[0mtimeout\u001b[0m\u001b[0;34m)\u001b[0m\u001b[0;34m\u001b[0m\u001b[0;34m\u001b[0m\u001b[0m\n\u001b[0m\u001b[1;32m    601\u001b[0m             \u001b[0;32mreturn\u001b[0m \u001b[0msignaled\u001b[0m\u001b[0;34m\u001b[0m\u001b[0;34m\u001b[0m\u001b[0m\n\u001b[1;32m    602\u001b[0m \u001b[0;34m\u001b[0m\u001b[0m\n",
      "\u001b[0;32m~/anaconda3/envs/wxlab/lib/python3.10/threading.py\u001b[0m in \u001b[0;36mwait\u001b[0;34m(self, timeout)\u001b[0m\n\u001b[1;32m    322\u001b[0m             \u001b[0;32melse\u001b[0m\u001b[0;34m:\u001b[0m\u001b[0;34m\u001b[0m\u001b[0;34m\u001b[0m\u001b[0m\n\u001b[1;32m    323\u001b[0m                 \u001b[0;32mif\u001b[0m \u001b[0mtimeout\u001b[0m \u001b[0;34m>\u001b[0m \u001b[0;36m0\u001b[0m\u001b[0;34m:\u001b[0m\u001b[0;34m\u001b[0m\u001b[0;34m\u001b[0m\u001b[0m\n\u001b[0;32m--> 324\u001b[0;31m                     \u001b[0mgotit\u001b[0m \u001b[0;34m=\u001b[0m \u001b[0mwaiter\u001b[0m\u001b[0;34m.\u001b[0m\u001b[0macquire\u001b[0m\u001b[0;34m(\u001b[0m\u001b[0;32mTrue\u001b[0m\u001b[0;34m,\u001b[0m \u001b[0mtimeout\u001b[0m\u001b[0;34m)\u001b[0m\u001b[0;34m\u001b[0m\u001b[0;34m\u001b[0m\u001b[0m\n\u001b[0m\u001b[1;32m    325\u001b[0m                 \u001b[0;32melse\u001b[0m\u001b[0;34m:\u001b[0m\u001b[0;34m\u001b[0m\u001b[0;34m\u001b[0m\u001b[0m\n\u001b[1;32m    326\u001b[0m                     \u001b[0mgotit\u001b[0m \u001b[0;34m=\u001b[0m \u001b[0mwaiter\u001b[0m\u001b[0;34m.\u001b[0m\u001b[0macquire\u001b[0m\u001b[0;34m(\u001b[0m\u001b[0;32mFalse\u001b[0m\u001b[0;34m)\u001b[0m\u001b[0;34m\u001b[0m\u001b[0;34m\u001b[0m\u001b[0m\n",
      "\u001b[0;31mKeyboardInterrupt\u001b[0m: "
     ]
    }
   ],
   "source": [
    "scheduler = BlockingScheduler()\n",
    "template = \"data/{0}.parquet\"\n",
    "\n",
    "\n",
    "@scheduler.scheduled_job(IntervalTrigger(hours=1))\n",
    "def on_hour():\n",
    "    last = get_last_hours_data()\n",
    "    df = to_dataframe(last)\n",
    "    file_name = template.format(datetime.now().strftime(\"%Y-%m-%d.HR%H\"))\n",
    "    df.to_parquet(file_name)\n",
    "    print(f\"file saved as {file_name}\")\n",
    "\n",
    "\n",
    "\n",
    "\n",
    "\n",
    "if __name__ == \"__main__\":\n",
    "    on_hour()\n",
    "    scheduler.start()"
   ]
  }
 ],
 "metadata": {
  "interpreter": {
   "hash": "29b86558503e7ef24379e75408165dd5ade7525b6e65bdb6fd2c37125d5a5f8a"
  },
  "kernelspec": {
   "display_name": "Python 3.10.4 ('wxlab')",
   "language": "python",
   "name": "python3"
  },
  "language_info": {
   "codemirror_mode": {
    "name": "ipython",
    "version": 3
   },
   "file_extension": ".py",
   "mimetype": "text/x-python",
   "name": "python",
   "nbconvert_exporter": "python",
   "pygments_lexer": "ipython3",
   "version": "3.10.4"
  },
  "orig_nbformat": 4
 },
 "nbformat": 4,
 "nbformat_minor": 2
}
