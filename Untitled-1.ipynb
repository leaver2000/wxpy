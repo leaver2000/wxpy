{
 "cells": [
  {
   "cell_type": "code",
   "execution_count": null,
   "metadata": {},
   "outputs": [],
   "source": [
    "%load_ext jupyter_black\n",
    "import os\n",
    "from glob import glob\n",
    "import pandas as pd\n",
    "import numpy as np\n",
    "from wxlab import forecast, probsevere"
   ]
  },
  {
   "cell_type": "code",
   "execution_count": null,
   "metadata": {},
   "outputs": [],
   "source": [
    "def sort_data(*args: str) -> list[str]:\n",
    "    return sorted(glob(os.path.join(\"data\", *args)))\n",
    "\n",
    "\n",
    "def unpack_files(ALL_PROBSEVERE_FILES, ALL_GALWEM_FILES, time_buffer: int = 90) -> tuple[pd.Series, pd.Series]:\n",
    "    # GALWEM FILES\n",
    "    fcst = pd.Series(ALL_GALWEM_FILES, name=\"GALWEM\")\n",
    "\n",
    "    g_times: pd.DataFrame = fcst.str.extract(r\"FH.(?P<forecast_hour>\\d{3})_DF__(?P<valid_time>\\d{8})\")\n",
    "    fcst.index = pd.to_datetime(g_times[\"valid_time\"]) + pd.to_timedelta(\n",
    "        g_times[\"forecast_hour\"].astype(int), unit=\"h\"\n",
    "    )\n",
    "    # PROBSEVERE_FILES\n",
    "    ps = pd.Series(ALL_PROBSEVERE_FILES, name=\"ProbSevere\")\n",
    "    ps.index = pd.Index(pd.to_datetime(ps.str.replace(\"_\", \"T\").str.extract(r\"(\\d*T\\d*).json\")[0]), name=\"validTime\")\n",
    "\n",
    "    buffer = pd.to_timedelta(time_buffer, unit=\"m\")\n",
    "    condition = (ps.index > fcst.index.min() - buffer) & (ps.index < fcst.index.max() + buffer)\n",
    "\n",
    "    return ps[condition], fcst\n",
    "\n",
    "\n",
    "ps_data, fcst_data = unpack_files(sort_data(\"probsevere\", \"*.json\"), sort_data(\"galwem\", \"*.GR2\"))\n",
    "ps_data, fcst_data"
   ]
  },
  {
   "cell_type": "code",
   "execution_count": null,
   "metadata": {},
   "outputs": [],
   "source": [
    "fcst = forecast.to_dataframe(fcst_data, bbox=probsevere.BBox())\n",
    "fcst"
   ]
  },
  {
   "cell_type": "code",
   "execution_count": null,
   "metadata": {},
   "outputs": [],
   "source": [
    "ps = probsevere.to_dataframe(ps_data)\n",
    "ps.plot()"
   ]
  },
  {
   "cell_type": "code",
   "execution_count": null,
   "metadata": {},
   "outputs": [],
   "source": [
    "ps1 = probsevere.reshape_geometry(ps, fcst).droplevel(\"ID\")\n",
    "ps1"
   ]
  },
  {
   "cell_type": "code",
   "execution_count": null,
   "metadata": {},
   "outputs": [],
   "source": [
    "ps2 = probsevere.align_time(ps1, fcst)\n",
    "ps2"
   ]
  },
  {
   "cell_type": "code",
   "execution_count": null,
   "metadata": {},
   "outputs": [],
   "source": [
    "ps3 = probsevere.meshgrid(ps2).fillna(0).astype(np.float32)  # .astype(np.int32)\n",
    "\n",
    "ps3\n",
    "# bucket = pd.DataFrame(index=fcst.index, columns=ps3.columns)\n",
    "# bucket\n",
    "# bucket.loc[ps3.index]\n",
    "# ps3.reindex_like(fcst.index)\n",
    "# ps3.index == fcst.index"
   ]
  },
  {
   "cell_type": "code",
   "execution_count": null,
   "metadata": {},
   "outputs": [],
   "source": [
    "ps4 = ps3.reset_index(\"lon\")\n",
    "ps4[\"lon\"] = ps4[\"lon\"] % 360\n",
    "ps4"
   ]
  },
  {
   "cell_type": "code",
   "execution_count": null,
   "metadata": {},
   "outputs": [],
   "source": [
    "import matplotlib.pyplot as plt\n",
    "\n",
    "plt.rcParams[\"axes.grid\"] = True\n",
    "fig, ax = plt.subplots()\n",
    "ps3.reset_index([\"lat\", \"lon\"]).plot(\n",
    "    kind=\"scatter\",\n",
    "    c=\"MLCAPE\",\n",
    "    s=\"PS\",\n",
    "    x=\"lon\",\n",
    "    ax=ax,\n",
    "    y=\"lat\",\n",
    "    figsize=(16, 12),\n",
    "    cmap=plt.get_cmap(\"jet\"),\n",
    ")"
   ]
  }
 ],
 "metadata": {
  "interpreter": {
   "hash": "29b86558503e7ef24379e75408165dd5ade7525b6e65bdb6fd2c37125d5a5f8a"
  },
  "kernelspec": {
   "display_name": "Python 3.10.4 ('wxlab')",
   "language": "python",
   "name": "python3"
  },
  "language_info": {
   "codemirror_mode": {
    "name": "ipython",
    "version": 3
   },
   "file_extension": ".py",
   "mimetype": "text/x-python",
   "name": "python",
   "nbconvert_exporter": "python",
   "pygments_lexer": "ipython3",
   "version": "3.10.4"
  },
  "orig_nbformat": 4
 },
 "nbformat": 4,
 "nbformat_minor": 2
}
